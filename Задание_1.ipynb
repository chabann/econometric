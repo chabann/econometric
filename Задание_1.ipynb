{
  "nbformat": 4,
  "nbformat_minor": 0,
  "metadata": {
    "colab": {
      "provenance": [],
      "collapsed_sections": [],
      "authorship_tag": "ABX9TyMwxDZX6p7LJ1yEyGLLs0c7",
      "include_colab_link": true
    },
    "kernelspec": {
      "name": "python3",
      "display_name": "Python 3"
    },
    "language_info": {
      "name": "python"
    }
  },
  "cells": [
    {
      "cell_type": "markdown",
      "metadata": {
        "id": "view-in-github",
        "colab_type": "text"
      },
      "source": [
        "<a href=\"https://colab.research.google.com/github/chabann/econometric/blob/main/%D0%97%D0%B0%D0%B4%D0%B0%D0%BD%D0%B8%D0%B5_1.ipynb\" target=\"_parent\"><img src=\"https://colab.research.google.com/assets/colab-badge.svg\" alt=\"Open In Colab\"/></a>"
      ]
    },
    {
      "cell_type": "code",
      "execution_count": 1,
      "metadata": {
        "id": "QY70S75oUh4S"
      },
      "outputs": [],
      "source": [
        "import numpy as np\n",
        "from scipy import stats\n",
        "\n",
        "x = np.array([78, 82, 87, 79, 89, 106, 67, 88, 73, 87, 76, 115])\n",
        "y = np.array([133, 148, 134, 154, 162, 195, 139, 158, 152, 162, 159, 173])\n",
        "n = len(x)"
      ]
    },
    {
      "cell_type": "code",
      "source": [
        "x1, y1 = zip(*sorted(zip(x, y)))"
      ],
      "metadata": {
        "id": "lKyQe7Z7U5Sl"
      },
      "execution_count": 2,
      "outputs": []
    },
    {
      "cell_type": "code",
      "source": [
        "x1 = np.array(x1)\n",
        "y1 = np.array(y1)\n",
        "\n",
        "x2 = sum(x1) / n\n",
        "y2 = sum(y1) / n\n",
        "x2y2 = sum([x1[i] * y1[i]  / n for i in range(n)])\n",
        "x22 = sum([x1[i] * x1[i]  / n for i in range(n)])\n",
        "\n",
        "b = (x2y2 - x2 * y2) / (x22 - x2 * x2)\n",
        "a = y2 - b * x2\n",
        "\n",
        "print('Параметры a и b методом наименьших квадратов')\n",
        "print(f'a: {a}')\n",
        "print(f'b: {b}')\n",
        "print('')\n",
        "print('Выборочные средние:')\n",
        "print(f'x2 (Выборочное среднее): {x2}')\n",
        "print(f'y2 (Выборочное среднее): {y2}')"
      ],
      "metadata": {
        "colab": {
          "base_uri": "https://localhost:8080/"
        },
        "id": "bz3TZXZuWM2g",
        "outputId": "6b10bf02-5d56-48ad-bb1b-6b8addc01791"
      },
      "execution_count": 3,
      "outputs": [
        {
          "output_type": "stream",
          "name": "stdout",
          "text": [
            "Параметры a и b методом наименьших квадратов\n",
            "a: 76.97648519975228\n",
            "b: 0.9204305526805966\n",
            "\n",
            "Выборочные средние:\n",
            "x2 (Выборочное среднее): 85.58333333333333\n",
            "y2 (Выборочное среднее): 155.75\n"
          ]
        }
      ]
    },
    {
      "cell_type": "code",
      "source": [
        "sigma_x2 = sum([(x1[i] - x2) ** 2 for i in range(n)]) / n\n",
        "sigma_y2 = sum([(y1[i] - y2) ** 2 for i in range(n)]) / n\n",
        "print('Выборочные дисперсии:')\n",
        "print(f'sigma_x: {sigma_x2}')\n",
        "print(f'sigma_y: {sigma_y2}')"
      ],
      "metadata": {
        "colab": {
          "base_uri": "https://localhost:8080/"
        },
        "id": "3IyQt3K9YOBI",
        "outputId": "3bebefc3-5a4e-4a0b-c121-853843f4fe76"
      },
      "execution_count": 4,
      "outputs": [
        {
          "output_type": "stream",
          "name": "stdout",
          "text": [
            "Выборочные дисперсии:\n",
            "sigma_x: 167.74305555555557\n",
            "sigma_y: 273.3541666666667\n"
          ]
        }
      ]
    },
    {
      "cell_type": "code",
      "source": [
        "r_xy = sum([(x1[i] - x2) * (y1[i] - y2) for i in range(n)]) / (n * sigma_x2 * sigma_y2)\n",
        "\n",
        "print('Выборочный коэффициент корреляции:')\n",
        "print(f'r_xy: {r_xy}')"
      ],
      "metadata": {
        "colab": {
          "base_uri": "https://localhost:8080/"
        },
        "id": "Sz9gU4CjYMoA",
        "outputId": "3ba7fa4e-675b-4d37-ebe9-8e70a7bdf82a"
      },
      "execution_count": 5,
      "outputs": [
        {
          "output_type": "stream",
          "name": "stdout",
          "text": [
            "Выборочный коэффициент корреляции:\n",
            "r_xy: 0.003367172207047405\n"
          ]
        }
      ]
    },
    {
      "cell_type": "code",
      "source": [
        "y3 = np.array([a + x1[i] * b for i in range(n)])\n",
        "\n",
        "y_mean = y1.mean()\n",
        "y3_mean = y3.mean()\n",
        "y_y3_mean = (y3 * y1).mean()\n",
        "y3_var = np.var(y3)\n",
        "y1_var = np.var(y1)\n",
        "\n",
        "corr = (y_y3_mean - y_mean * y3_mean) / (np.sqrt(y3_var * y1_var))\n",
        "print(f'Корреляция {corr}')\n",
        "\n",
        "determ = corr ** 2\n",
        "print(f'Коэффициент детерминации R^2: {determ}')\n",
        "\n",
        "diff_y1_y3 = y1 - y3\n",
        "sum = 0\n",
        "for i in range(n):\n",
        "  sum += np.abs(diff_y1_y3[i] / y1[i])\n",
        "\n",
        "A = sum * 100 / n\n",
        "print(f'Ошибка приближения A: {A}')\n"
      ],
      "metadata": {
        "colab": {
          "base_uri": "https://localhost:8080/"
        },
        "id": "o_4yaqAee3AM",
        "outputId": "53f66699-c4ef-4e8f-8c77-66553efb811a"
      },
      "execution_count": 6,
      "outputs": [
        {
          "output_type": "stream",
          "name": "stdout",
          "text": [
            "Корреляция 0.7210252137643343\n",
            "Коэффициент детерминации R^2: 0.519877358883904\n",
            "Ошибка приближения A: 5.752052116927113\n"
          ]
        }
      ]
    },
    {
      "cell_type": "code",
      "source": [
        "x_p = 92\n",
        "y_p = a + x_p * b\n",
        "\n",
        "print('Проверка статистической значимости')\n",
        "\n",
        "S = 0\n",
        "for i in range(n):\n",
        "  S += (y1[i] - y3[i]) ** 2\n",
        "S = np.sqrt(S / (n - 2))\n",
        "\n",
        "print(f'Полученное значение Sост: {S}')\n",
        "\n",
        "m_a = S * np.sqrt((x1 ** 2).sum()) / (np.sqrt(x1.var(ddof=0)) * n)\n",
        "m_b = S / (np.sqrt(x1.var(ddof=0) * n))\n",
        "\n",
        "print(f'm_a = {m_a}, m_b = {m_b}')\n",
        "print('')\n",
        "\n",
        "x_diff_mean = np.array([(x1[i] - x1.mean()) ** 2 for i in range(n)])\n",
        "m_y = S * np.sqrt(1 + 1 / n + ((x_p - x1.mean()) ** 2) / x_diff_mean.sum())\n",
        "\n",
        "print(f'm_y = {m_y}')\n",
        "print('')\n",
        "\n",
        "t_a = a / m_a\n",
        "t_b = b / m_b\n",
        "\n",
        "print(f'Статистика t_a для параметра a: {t_a}')\n",
        "print(f'Статистика t_b для параметра b: {t_b}')\n",
        "\n",
        "print('')\n",
        "\n",
        "\"\"\" Квантиль Стьюдента для mu = 5% и n-2 степеней свободы \"\"\"\n",
        "\n",
        "print('')\n",
        "\n",
        "SQ = stats.t.ppf(1 - 0.05, n - 2)\n",
        "print(f'Квантиль Стьюдента: {SQ}')\n",
        "print('')\n",
        "\n",
        "t_r = corr * np.sqrt((n - 2) / (1 - corr ** 2))\n",
        "\n",
        "print(f'Статистика t_r для коэффициента корреляции: {t_r}')\n",
        "print('')\n",
        "\n",
        "if abs(t_r) >= SQ:\n",
        "  print('Коэффициент корреляции t_r статистически значим')\n",
        "else:\n",
        "  print('Коэффициент корреляции t_r статистически не значим')\n",
        "\n",
        "F = determ ** 2 * (n - 2)/(1 - determ ** 2)\n",
        "\n",
        "print('')\n",
        "print(f'F: {F}')\n",
        "print('')\n",
        "\n",
        "if abs(F) >= SQ:\n",
        "  print('Коэффициент детерминации F статистически значим')\n",
        "else:\n",
        "  print('Коэффициент детерминации F статистически не значим')\n",
        "\n",
        "\n",
        "FQ = stats.f.ppf(1 - 0.05, 1, n - 2)\n",
        "\n",
        "print(f'Квантиль Фишера: {FQ}')\n",
        "print('')\n",
        "\n",
        "if abs(t_a) >= SQ:\n",
        "  print('Параметр a статистически значим')\n",
        "else:\n",
        "  print('Параметр a статистически не значим')\n",
        "print('')\n",
        "\n",
        "if abs(t_b) >= SQ:\n",
        "  print('Параметр b статистически значим')\n",
        "else:\n",
        "  print('Параметр b статистически не значим')\n",
        "print('')\n",
        "\n",
        "\n",
        "print(\"Доверительный интервал для параметра a = (%f , %f)\"% (a - m_a * SQ , a + m_a * SQ))\n",
        "print('')\n",
        "print(\"Доверительный интервал для параметра b = (%f , %f)\"% (b - m_b * SQ , b + m_b * SQ))\n",
        "print('')\n",
        "print(\"Доверительный интервал для предсказания y = (%f , %f)\"% (y_p - m_y * SQ , y_p + m_y * SQ))\n"
      ],
      "metadata": {
        "colab": {
          "base_uri": "https://localhost:8080/"
        },
        "id": "0OFCo2AHlCr3",
        "outputId": "5ce5f006-3793-4ede-d1b1-63a9ef907011"
      },
      "execution_count": 7,
      "outputs": [
        {
          "output_type": "stream",
          "name": "stdout",
          "text": [
            "Проверка статистической значимости\n",
            "Полученное значение Sост: 12.549590804169705\n",
            "m_a = 24.21156138272578, m_b = 0.2797155867097203\n",
            "\n",
            "m_y = 13.184765392655066\n",
            "\n",
            "Статистика t_a для параметра a: 3.1793275940754766\n",
            "Статистика t_b для параметра b: 3.290594433823201\n",
            "\n",
            "\n",
            "Квантиль Стьюдента: 1.8124611228107335\n",
            "\n",
            "Статистика t_r для коэффициента корреляции: 3.2905944338230984\n",
            "\n",
            "Коэффициент корреляции t_r статистически значим\n",
            "\n",
            "F: 3.703744980583337\n",
            "\n",
            "Коэффициент детерминации F статистически значим\n",
            "Квантиль Фишера: 4.9646027437307145\n",
            "\n",
            "Параметр a статистически значим\n",
            "\n",
            "Параметр b статистически значим\n",
            "\n",
            "Доверительный интервал для параметра a = (33.093971 , 120.858999)\n",
            "\n",
            "Доверительный интервал для параметра b = (0.413457 , 1.427404)\n",
            "\n",
            "Доверительный интервал для предсказания y = (137.759221 , 185.552971)\n"
          ]
        }
      ]
    }
  ]
}