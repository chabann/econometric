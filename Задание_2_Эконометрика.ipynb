{
  "nbformat": 4,
  "nbformat_minor": 0,
  "metadata": {
    "colab": {
      "provenance": [],
      "authorship_tag": "ABX9TyOyqTqnedh115m4X37u3bPm",
      "include_colab_link": true
    },
    "kernelspec": {
      "name": "python3",
      "display_name": "Python 3"
    },
    "language_info": {
      "name": "python"
    }
  },
  "cells": [
    {
      "cell_type": "markdown",
      "metadata": {
        "id": "view-in-github",
        "colab_type": "text"
      },
      "source": [
        "<a href=\"https://colab.research.google.com/github/chabann/econometric/blob/main/%D0%97%D0%B0%D0%B4%D0%B0%D0%BD%D0%B8%D0%B5_2_%D0%AD%D0%BA%D0%BE%D0%BD%D0%BE%D0%BC%D0%B5%D1%82%D1%80%D0%B8%D0%BA%D0%B0.ipynb\" target=\"_parent\"><img src=\"https://colab.research.google.com/assets/colab-badge.svg\" alt=\"Open In Colab\"/></a>"
      ]
    },
    {
      "cell_type": "markdown",
      "source": [
        "Импортируем необходимые пакеты и задаем имеющиеся данные"
      ],
      "metadata": {
        "id": "isZtMDX4BY-J"
      }
    },
    {
      "cell_type": "code",
      "execution_count": 1,
      "metadata": {
        "id": "onjND8oB9cwo"
      },
      "outputs": [],
      "source": [
        "import numpy as np\n",
        "from scipy import stats\n",
        "import matplotlib.pyplot as plt\n",
        "\n",
        "X_data = [199.49, 234.15, 242.79, 253.23, 256.9, 235.45, 304.74, 273.29, 384.7, \n",
        "     440.27, 448.57, 322.65, 533.07, 563.24, 550.44, 530.46, 636.86, 626.61, \n",
        "     647.75, 636.04]\n",
        "Y_data = [310.26, 400.1, 220.43, 373.35, 340.47, 349.5, 353.11, 343.51, 401.62, \n",
        "     408.31, 405.25, 417.52, 515.34, 510.77, 519.34, 498.03, 461.52, 642.07, \n",
        "     488.62, 638.97]\n",
        "\n",
        "n = len(X_data)"
      ]
    },
    {
      "cell_type": "markdown",
      "source": [
        "Отсортируем совместно X и Y"
      ],
      "metadata": {
        "id": "C9RR4nYKBk1F"
      }
    },
    {
      "cell_type": "code",
      "source": [
        "x, y = zip(*sorted(zip(X_data, Y_data)))\n",
        "\n",
        "x = np.array(x)\n",
        "y = np.array(y)"
      ],
      "metadata": {
        "id": "PN4LsQIfIB42"
      },
      "execution_count": 2,
      "outputs": []
    },
    {
      "cell_type": "markdown",
      "source": [
        "Функция для нахождения параметров с помощью МНК"
      ],
      "metadata": {
        "id": "8iJCZm_kIFhm"
      }
    },
    {
      "cell_type": "code",
      "source": [
        "def mnk_coeff(x, y):\n",
        "  n = len(x)\n",
        "\n",
        "  x_line = sum(x) / n\n",
        "  y_line = sum(y) / n\n",
        "  xy_line = sum([x[i] * y[i]  / n for i in range(n)])\n",
        "  x_2_line = sum([(xi ** 2)  / n for xi in x])\n",
        "\n",
        "  b = (xy_line - x_line * y_line) / (x_2_line - x_line * x_line)\n",
        "  a = y_line - b * x_line\n",
        "\n",
        "  return a, b"
      ],
      "metadata": {
        "id": "Oos3ZnNXILPr"
      },
      "execution_count": 3,
      "outputs": []
    },
    {
      "cell_type": "markdown",
      "source": [
        "Вызовем функцию и найдем коэффициенты"
      ],
      "metadata": {
        "id": "T_lRJOQsIWQJ"
      }
    },
    {
      "cell_type": "code",
      "source": [
        "a, b = mnk_coeff(x, y)\n",
        "\n",
        "print('Параметры a и b найденные с помощью МНК')\n",
        "print(f'a: {a}')\n",
        "print(f'b: {b}')\n",
        "print('')\n"
      ],
      "metadata": {
        "colab": {
          "base_uri": "https://localhost:8080/"
        },
        "id": "tqdf5jahBn_c",
        "outputId": "bc6babe2-f994-42ec-c1e2-2c39d1b46503"
      },
      "execution_count": 4,
      "outputs": [
        {
          "output_type": "stream",
          "name": "stdout",
          "text": [
            "Параметры a и b найденные с помощью МНК\n",
            "a: 196.91995501930023\n",
            "b: 0.5600118859728144\n",
            "\n"
          ]
        }
      ]
    },
    {
      "cell_type": "markdown",
      "source": [
        "Функция для нахождение вычисленных значений y"
      ],
      "metadata": {
        "id": "b_ZKfrV-IoAz"
      }
    },
    {
      "cell_type": "code",
      "source": [
        "def lin_regression(x, a, b):\n",
        "  y_pr = [a + b * xi for xi in x]\n",
        "\n",
        "  return y_pr"
      ],
      "metadata": {
        "id": "LtIODQRSIsVL"
      },
      "execution_count": 5,
      "outputs": []
    },
    {
      "cell_type": "code",
      "source": [
        "y_pr = lin_regression(x, a, b)\n",
        "\n",
        "print('y по уравнению линейной регрессии')\n",
        "print(f'y_pr: {y_pr}')\n",
        "print('')"
      ],
      "metadata": {
        "colab": {
          "base_uri": "https://localhost:8080/"
        },
        "id": "Q3UhXsYjEL5t",
        "outputId": "c055906c-34a1-4c3a-8444-3080efc9450b"
      },
      "execution_count": 6,
      "outputs": [
        {
          "output_type": "stream",
          "name": "stdout",
          "text": [
            "y по уравнению линейной регрессии\n",
            "y_pr: [308.636726152017, 328.0467381198347, 328.7747535715994, 332.8852408146398, 338.731764904196, 340.78700852571626, 349.96560333681066, 367.57797715065567, 377.6077900284288, 412.35652755304193, 443.4763880565512, 448.12448671012555, 493.98386005243935, 495.4454910748284, 505.17289753417623, 512.3410496746283, 547.8290028887254, 553.1099149734491, 553.5691247199468, 559.6676541581908]\n",
            "\n"
          ]
        }
      ]
    },
    {
      "cell_type": "markdown",
      "source": [
        "Находим остатки - разницы между фактическими значениями показателя и вычисленными по уравнению линейной регрессии"
      ],
      "metadata": {
        "id": "JaFXqwbLEt8G"
      }
    },
    {
      "cell_type": "code",
      "source": [
        "e = [y[i] - y_pr[i] for i in range(n)]\n",
        "print(f'e: {e}')"
      ],
      "metadata": {
        "colab": {
          "base_uri": "https://localhost:8080/"
        },
        "id": "OM79mN9_E6cC",
        "outputId": "6537f556-89a8-4f83-9ca0-6463109ce125"
      },
      "execution_count": 7,
      "outputs": [
        {
          "output_type": "stream",
          "name": "stdout",
          "text": [
            "e: [1.6232738479830005, 72.05326188016534, 20.725246428400624, -112.45524081463981, 34.61823509580404, -0.3170085257162327, -6.455603336810668, -14.467977150655656, 39.9122099715712, -10.736527553041924, -35.16638805655117, -42.87448671012555, 4.046139947560619, 19.894508925171635, 14.167102465823803, -1.5710496746282843, 94.24099711127462, 85.8600850265509, -92.0491247199468, -71.04765415819077]\n"
          ]
        }
      ]
    },
    {
      "cell_type": "markdown",
      "source": [
        "Построим график зависимости остатков от фактора x"
      ],
      "metadata": {
        "id": "MEz-TJqwFMxL"
      }
    },
    {
      "cell_type": "code",
      "source": [
        "plt.title(\"График зависимости остатков от X\")\n",
        "plt.scatter(x, y - y_pr, color=\"red\", linewidths=1)\n",
        "plt.xlabel(\"X\")\n",
        "plt.ylabel(\"Остатки\")\n",
        "plt.grid()\n",
        "plt.show()"
      ],
      "metadata": {
        "colab": {
          "base_uri": "https://localhost:8080/",
          "height": 295
        },
        "id": "sm2FwSJcFPRO",
        "outputId": "3f9d8d9e-a23f-435a-a427-6abbd1be7710"
      },
      "execution_count": 8,
      "outputs": [
        {
          "output_type": "display_data",
          "data": {
            "text/plain": [
              "<Figure size 432x288 with 1 Axes>"
            ],
            "image/png": "[encoded data removed]"
          },
          "metadata": {
            "needs_background": "light"
          }
        }
      ]
    },
    {
      "cell_type": "markdown",
      "source": [
        "Проверим гипотезу о наличии гетероскесдастичности в линейной регрессии с помощью теста Гольдфельда-Квандта на уровне значимости 0,05"
      ],
      "metadata": {
        "id": "UpxIzS7RF_0r"
      }
    },
    {
      "cell_type": "code",
      "source": [
        "m = 6\n",
        "m_ind = int((n-m) / 2)\n",
        "\n",
        "print(f'm_ind: {m_ind}')\n",
        "print('')\n",
        "\n",
        "x1 = x[:m_ind]\n",
        "y1 = y[:m_ind]\n",
        "\n",
        "x2 = x[-m_ind :]\n",
        "y2 = y[-m_ind :]\n",
        "\n",
        "a1, b1 = mnk_coeff(x1, y1)\n",
        "y_pr1 = lin_regression(x1, a1, b1)\n",
        "\n",
        "print('Параметры a1, b1 и вычисленные значения y:')\n",
        "print(f'a1: {a1}')\n",
        "print(f'b1: {b1}')\n",
        "print(f'y_pr1: {y_pr1}')\n",
        "print('')\n",
        "\n",
        "\n",
        "a2, b2 = mnk_coeff(x2, y2)\n",
        "y_pr2 = lin_regression(x2, a2, b2)\n",
        "\n",
        "print('Параметры a2, b2 и вычисленные значения y:')\n",
        "print(f'a2: {a2}')\n",
        "print(f'b2: {b2}')\n",
        "print(f'y_pr2: {y_pr2}')\n",
        "print('')\n",
        "\n"
      ],
      "metadata": {
        "colab": {
          "base_uri": "https://localhost:8080/"
        },
        "id": "IvoTdKb9GB7V",
        "outputId": "c9ce9b0b-e2a7-46c3-98f0-db212e1448ed"
      },
      "execution_count": 9,
      "outputs": [
        {
          "output_type": "stream",
          "name": "stdout",
          "text": [
            "m_ind: 7\n",
            "\n",
            "Параметры a1, b1 и вычисленные значения y:\n",
            "a1: 249.08494479691097\n",
            "b1: 0.3503954382242811\n",
            "y_pr1: [318.98533076827283, 331.1300366571264, 331.5855507268179, 334.15745324338417, 337.81558161844566, 339.1015328767288, 344.84451410922475]\n",
            "\n",
            "Параметры a2, b2 и вычисленные значения y:\n",
            "a2: 338.07249450269177\n",
            "b2: 0.3362229795544496\n",
            "y_pr2: [517.3028782137822, 523.143071368643, 527.44672550694, 548.7531757213054, 551.9237584185039, 552.1994612617385, 555.8609295090864]\n",
            "\n"
          ]
        }
      ]
    },
    {
      "cell_type": "markdown",
      "source": [
        "Вычислим остаточные суммы квадратов по каждой из выборок"
      ],
      "metadata": {
        "id": "zMCUJ1f8JxjZ"
      }
    },
    {
      "cell_type": "code",
      "source": [
        "S1_2 = sum([(y1[i] - y_pr1[i]) ** 2 for i in range(m_ind)])\n",
        "\n",
        "print(f'S1^2 {S1_2}')\n",
        "print('')\n",
        "\n",
        "S2_2 = sum([(y2[i] - y_pr2[i]) ** 2 for i in range(m_ind)])\n",
        "\n",
        "print(f'S2^2 {S2_2}')\n",
        "print('')"
      ],
      "metadata": {
        "colab": {
          "base_uri": "https://localhost:8080/"
        },
        "id": "qMxoXAtXJ0_F",
        "outputId": "2588160f-2018-44df-b3a9-12f3dd2b7758"
      },
      "execution_count": 10,
      "outputs": [
        {
          "output_type": "stream",
          "name": "stdout",
          "text": [
            "S1^2 19354.196874411184\n",
            "\n",
            "S2^2 29325.614579240984\n",
            "\n"
          ]
        }
      ]
    },
    {
      "cell_type": "markdown",
      "source": [
        "Вычислим статистику F"
      ],
      "metadata": {
        "id": "5QQF5QtiK5ft"
      }
    },
    {
      "cell_type": "code",
      "source": [
        "F = S2_2 / S1_2\n",
        "\n",
        "print(f'F = {F}')"
      ],
      "metadata": {
        "colab": {
          "base_uri": "https://localhost:8080/"
        },
        "id": "aMjp6NVcK7pg",
        "outputId": "e22abaf2-dc11-48da-f3bd-8275dce46267"
      },
      "execution_count": 11,
      "outputs": [
        {
          "output_type": "stream",
          "name": "stdout",
          "text": [
            "F = 1.5152069997806696\n"
          ]
        }
      ]
    },
    {
      "cell_type": "code",
      "source": [
        "F_tabl = stats.f.interval(1 - 0.05, m_ind - 2, m_ind - 2)[1]\n",
        "\n",
        "print(f'F_tabl = {F_tabl}')\n",
        "\n",
        "if F <= F_tabl:\n",
        "  print('Гипотеза гомоскедастичности принимается на уровне значимости 0,05' )\n",
        "else:\n",
        "  print('Гипотеза гомоскедастичности не принимается на уровне значимости 0,05' )"
      ],
      "metadata": {
        "colab": {
          "base_uri": "https://localhost:8080/"
        },
        "id": "YiaBjkBLLJll",
        "outputId": "d525cbd3-c3df-467b-c774-3321509c278c"
      },
      "execution_count": 12,
      "outputs": [
        {
          "output_type": "stream",
          "name": "stdout",
          "text": [
            "F_tabl = 7.146381828732832\n",
            "Гипотеза гомоскедастичности принимается на уровне значимости 0,05\n"
          ]
        }
      ]
    },
    {
      "cell_type": "code",
      "source": [
        "F_tabl = stats.f.interval(1 - 0.01, m_ind - 2, m_ind - 2)[1]\n",
        "\n",
        "print(f'F_tabl = {F_tabl}')\n",
        "\n",
        "if F <= F_tabl:\n",
        "  print('Гипотеза гомоскедастичности принимается на уровне значимости 0,01' )\n",
        "else:\n",
        "  print('Гипотеза гомоскедастичности не принимается на уровне значимости 0,01' )"
      ],
      "metadata": {
        "colab": {
          "base_uri": "https://localhost:8080/"
        },
        "id": "rS-PYz7bNG18",
        "outputId": "9414624f-27c5-4ec5-f115-878e2b536c8a"
      },
      "execution_count": 13,
      "outputs": [
        {
          "output_type": "stream",
          "name": "stdout",
          "text": [
            "F_tabl = 14.939605459912224\n",
            "Гипотеза гомоскедастичности принимается на уровне значимости 0,01\n"
          ]
        }
      ]
    }
  ]
}